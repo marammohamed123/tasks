{
  "nbformat": 4,
  "nbformat_minor": 0,
  "metadata": {
    "colab": {
      "provenance": [],
      "authorship_tag": "ABX9TyMO5NN46G9TkmKCQ3ZtrRoR",
      "include_colab_link": true
    },
    "kernelspec": {
      "name": "python3",
      "display_name": "Python 3"
    },
    "language_info": {
      "name": "python"
    }
  },
  "cells": [
    {
      "cell_type": "markdown",
      "metadata": {
        "id": "view-in-github",
        "colab_type": "text"
      },
      "source": [
        "<a href=\"https://colab.research.google.com/github/marammohamed123/tasks/blob/main/numpy%20exam.ipynb\" target=\"_parent\"><img src=\"https://colab.research.google.com/assets/colab-badge.svg\" alt=\"Open In Colab\"/></a>"
      ]
    },
    {
      "cell_type": "code",
      "execution_count": 4,
      "metadata": {
        "colab": {
          "base_uri": "https://localhost:8080/"
        },
        "id": "7D5QL_nHIUE4",
        "outputId": "c19f2cde-60be-4ad8-9d8a-b4fbd73bfd8d"
      },
      "outputs": [
        {
          "output_type": "stream",
          "name": "stdout",
          "text": [
            "[[10 11 12]\n",
            " [13 14 15]\n",
            " [16 17 18]\n",
            " [19 20 21]\n",
            " [22 23 24]\n",
            " [25 26 27]\n",
            " [28 29 30]\n",
            " [31 32 33]]\n",
            "\n",
            "Dividing 8X3 array into 4 sub array\n",
            "\n",
            "[array([[10, 11, 12],\n",
            "       [13, 14, 15]]), array([[16, 17, 18],\n",
            "       [19, 20, 21]]), array([[22, 23, 24],\n",
            "       [25, 26, 27]]), array([[28, 29, 30],\n",
            "       [31, 32, 33]])]\n"
          ]
        }
      ],
      "source": [
        "#1: Split the array into four equal-sized sub-arrays\n",
        "import numpy as np\n",
        "Array = np.arange(10, 34, 1)\n",
        "Array = Array.reshape(8,3)\n",
        "print (Array)\n",
        "print(\"\\nDividing 8X3 array into 4 sub array\\n\")\n",
        "split_Arrays = np.split(Array, 4) \n",
        "print(split_Arrays)"
      ]
    },
    {
      "cell_type": "code",
      "source": [
        "#2:Sort following NumPy array\n",
        "Array = np.array([[34,43,73],[82,22,12],[53,94,66]]) \n",
        "sort_Row = Array[:,Array[1,:].argsort()]\n",
        "print(\"Sorting by row\")\n",
        "print(sort_Row)\n",
        "print(\"Sorting by column\")\n",
        "sort_Column = Array[Array[:,1].argsort()]\n",
        "print(sort_Column)"
      ],
      "metadata": {
        "colab": {
          "base_uri": "https://localhost:8080/"
        },
        "id": "qQ3EhP2oKbUU",
        "outputId": "ed65c30d-21e8-49b7-f7a9-4e800f877eb9"
      },
      "execution_count": 6,
      "outputs": [
        {
          "output_type": "stream",
          "name": "stdout",
          "text": [
            "Sorting by row\n",
            "[[73 43 34]\n",
            " [12 22 82]\n",
            " [66 94 53]]\n",
            "Sorting by column\n",
            "[[82 22 12]\n",
            " [34 43 73]\n",
            " [53 94 66]]\n"
          ]
        }
      ]
    },
    {
      "cell_type": "code",
      "source": [
        "#3: Print max from axis 0 and min from axis 1 from the following 2-D array\n",
        "Array = np.array([[34,43,73],[82,22,12],[53,94,66]]) \n",
        "print (Array)\n",
        "min_One = np.amin(Array, 1) \n",
        "print(\"Printing amin Of Axis 1\")\n",
        "print(min_One)\n",
        "max_One = np.amax(Array, 0) \n",
        "print(\"Printing amax Of Axis 0\")\n",
        "print(max_One)"
      ],
      "metadata": {
        "colab": {
          "base_uri": "https://localhost:8080/"
        },
        "id": "q5VfIOuzLVtG",
        "outputId": "76a5b234-ec96-4b52-b7be-e2b3048375ed"
      },
      "execution_count": 7,
      "outputs": [
        {
          "output_type": "stream",
          "name": "stdout",
          "text": [
            "[[34 43 73]\n",
            " [82 22 12]\n",
            " [53 94 66]]\n",
            "Printing amin Of Axis 1\n",
            "[34 12 53]\n",
            "Printing amax Of Axis 0\n",
            "[82 94 73]\n"
          ]
        }
      ]
    },
    {
      "cell_type": "code",
      "source": [
        "#4:Delete the second column from a given array and insert the following new column in its place\n",
        "Array = np.array([[34,43,73],[82,22,12],[53,94,66]]) \n",
        "print (Array)\n",
        "print(\"Array after deleting \")\n",
        "Array = np.delete(Array , 1, axis = 1) \n",
        "print (Array)\n",
        "\n",
        "array = np.array([[10,10,10]])\n",
        "print(\"Array after inserting \")\n",
        "Array = np.insert(Array , 1, array, axis = 1) \n",
        "print (Array)"
      ],
      "metadata": {
        "colab": {
          "base_uri": "https://localhost:8080/"
        },
        "id": "al7VEgz0L_-d",
        "outputId": "9f73fca2-782a-482e-f169-a641b7632ef2"
      },
      "execution_count": 9,
      "outputs": [
        {
          "output_type": "stream",
          "name": "stdout",
          "text": [
            "[[34 43 73]\n",
            " [82 22 12]\n",
            " [53 94 66]]\n",
            "Array after deleting \n",
            "[[34 73]\n",
            " [82 12]\n",
            " [53 66]]\n",
            "Array after inserting \n",
            "[[34 10 73]\n",
            " [82 10 12]\n",
            " [53 10 66]]\n"
          ]
        }
      ]
    },
    {
      "cell_type": "code",
      "source": [],
      "metadata": {
        "id": "h6cj7avTMnKc"
      },
      "execution_count": null,
      "outputs": []
    }
  ]
}