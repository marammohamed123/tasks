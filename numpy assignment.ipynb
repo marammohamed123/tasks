{
  "nbformat": 4,
  "nbformat_minor": 0,
  "metadata": {
    "colab": {
      "provenance": [],
      "authorship_tag": "ABX9TyN5qNF514DKEziVBtE185J8",
      "include_colab_link": true
    },
    "kernelspec": {
      "name": "python3",
      "display_name": "Python 3"
    },
    "language_info": {
      "name": "python"
    }
  },
  "cells": [
    {
      "cell_type": "markdown",
      "metadata": {
        "id": "view-in-github",
        "colab_type": "text"
      },
      "source": [
        "<a href=\"https://colab.research.google.com/github/marammohamed123/tasks/blob/main/numpy%20assignment.ipynb\" target=\"_parent\"><img src=\"https://colab.research.google.com/assets/colab-badge.svg\" alt=\"Open In Colab\"/></a>"
      ]
    },
    {
      "cell_type": "code",
      "execution_count": 1,
      "metadata": {
        "colab": {
          "base_uri": "https://localhost:8080/"
        },
        "id": "scXgDzDo8fka",
        "outputId": "14038735-fda8-4535-b97b-8247bbb30c94"
      },
      "outputs": [
        {
          "output_type": "stream",
          "name": "stdout",
          "text": [
            "shape of array\n",
            "(4, 2)\n",
            "\n",
            "\n",
            "dimension of array\n",
            "2\n",
            "\n",
            "\n",
            "The Length of each element of the array\n",
            "2\n",
            "\n",
            "\n"
          ]
        }
      ],
      "source": [
        "#: Create a 4X2 integer array and Prints its attributes\n",
        "import numpy as np\n",
        "array=np.empty([4,2],dtype=np.uint16)\n",
        "print(\"shape of array\")\n",
        "print(array.shape)\n",
        "print(\"\\n\")\n",
        "print(\"dimension of array\")\n",
        "print(array.ndim)\n",
        "print(\"\\n\")\n",
        "print(\"The Length of each element of the array\")\n",
        "print(array.itemsize)\n",
        "print(\"\\n\")"
      ]
    },
    {
      "cell_type": "code",
      "source": [
        "#Exercise 2: Create a 5X2 integer array from a range between 100 to 200 such that the difference between each element is 10\n",
        "import numpy as np\n",
        "array=np.arange(100,200,10)\n",
        "array=array.reshape(5,2)\n",
        "print(array)"
      ],
      "metadata": {
        "colab": {
          "base_uri": "https://localhost:8080/"
        },
        "id": "U52XIsDx8hAP",
        "outputId": "1d533f32-f3be-4ade-9c08-281f14142e19"
      },
      "execution_count": 2,
      "outputs": [
        {
          "output_type": "stream",
          "name": "stdout",
          "text": [
            "[[100 110]\n",
            " [120 130]\n",
            " [140 150]\n",
            " [160 170]\n",
            " [180 190]]\n"
          ]
        }
      ]
    },
    {
      "cell_type": "code",
      "source": [
        "#Exercise 3: Following is the provided numPy array. Return array of items by taking the third column from all rows\n",
        "import numpy as np\n",
        "sampleArray = np.array([[11 ,22, 33], [44, 55, 66], [77, 88, 99]])\n",
        "print(sampleArray)\n",
        "print(\"\\n\")\n",
        "new_array=sampleArray[...,2]\n",
        "print(new_array)"
      ],
      "metadata": {
        "colab": {
          "base_uri": "https://localhost:8080/"
        },
        "id": "fXu2Esgk8w5S",
        "outputId": "f70df419-30f4-4689-a6d6-4362f00043c3"
      },
      "execution_count": 3,
      "outputs": [
        {
          "output_type": "stream",
          "name": "stdout",
          "text": [
            "[[11 22 33]\n",
            " [44 55 66]\n",
            " [77 88 99]]\n",
            "\n",
            "\n",
            "[33 66 99]\n"
          ]
        }
      ]
    },
    {
      "cell_type": "code",
      "source": [
        "#: Return array of odd rows and even columns from below numpy array\n",
        "import numpy as np\n",
        "sampleArray = np.array([[3 ,6, 9, 12], [15 ,18, 21, 24],[27 ,30, 33, 36], [39 ,42, 45, 48], [51 ,54, 57, 60]])\n",
        "print(sampleArray)\n",
        "print(\"\\n\")\n",
        "new_array=sampleArray[::2,1::2]\n",
        "print(new_array)"
      ],
      "metadata": {
        "colab": {
          "base_uri": "https://localhost:8080/"
        },
        "id": "Coihi-4F81YK",
        "outputId": "d5c01111-2880-472a-84cc-ddbe694ed907"
      },
      "execution_count": 4,
      "outputs": [
        {
          "output_type": "stream",
          "name": "stdout",
          "text": [
            "[[ 3  6  9 12]\n",
            " [15 18 21 24]\n",
            " [27 30 33 36]\n",
            " [39 42 45 48]\n",
            " [51 54 57 60]]\n",
            "\n",
            "\n",
            "[[ 6 12]\n",
            " [30 36]\n",
            " [54 60]]\n"
          ]
        }
      ]
    },
    {
      "cell_type": "code",
      "source": [
        "'''Exercise 5: Create a result array by adding the following two NumPy arrays. Next, modify the result array by calculating the \n",
        "square of each element'''\n",
        "import numpy as np\n",
        "arrayOne = np.array([[5, 6, 9], [21 ,18, 27]])\n",
        "arrayTwo = np.array([[15 ,33, 24], [4 ,7, 1]])\n",
        "print(\"result array by adding the following two NumPy arrays:\")\n",
        "sum_array=arrayOne+arrayTwo\n",
        "print(sum_array)\n",
        "print(\"\\n\")\n",
        "print(\" the result array by calculating the square of each element\")\n",
        "square=sum_array**2\n",
        "print(square)\n"
      ],
      "metadata": {
        "colab": {
          "base_uri": "https://localhost:8080/"
        },
        "id": "xSvsxhQd88ok",
        "outputId": "39d39279-9428-4f65-f953-64ed796227a3"
      },
      "execution_count": 5,
      "outputs": [
        {
          "output_type": "stream",
          "name": "stdout",
          "text": [
            "result array by adding the following two NumPy arrays:\n",
            "[[20 39 33]\n",
            " [25 25 28]]\n",
            "\n",
            "\n",
            " the result array by calculating the square of each element\n",
            "[[ 400 1521 1089]\n",
            " [ 625  625  784]]\n"
          ]
        }
      ]
    },
    {
      "cell_type": "code",
      "source": [],
      "metadata": {
        "id": "-KdXjwhQ9BP3"
      },
      "execution_count": null,
      "outputs": []
    }
  ]
}