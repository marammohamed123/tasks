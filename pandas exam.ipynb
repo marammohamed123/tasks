{
  "nbformat": 4,
  "nbformat_minor": 0,
  "metadata": {
    "colab": {
      "provenance": [],
      "authorship_tag": "ABX9TyM0J9tuEU8T3sxocnhGA8Nw",
      "include_colab_link": true
    },
    "kernelspec": {
      "name": "python3",
      "display_name": "Python 3"
    },
    "language_info": {
      "name": "python"
    }
  },
  "cells": [
    {
      "cell_type": "markdown",
      "metadata": {
        "id": "view-in-github",
        "colab_type": "text"
      },
      "source": [
        "<a href=\"https://colab.research.google.com/github/marammohamed123/tasks/blob/main/pandas%20exam.ipynb\" target=\"_parent\"><img src=\"https://colab.research.google.com/assets/colab-badge.svg\" alt=\"Open In Colab\"/></a>"
      ]
    },
    {
      "cell_type": "code",
      "execution_count": 1,
      "metadata": {
        "colab": {
          "base_uri": "https://localhost:8080/"
        },
        "id": "YbHKN1JEENa6",
        "outputId": "ba7ed4f4-8f87-4085-9b9e-7533c9fc2c16"
      },
      "outputs": [
        {
          "output_type": "execute_result",
          "data": {
            "text/plain": [
              "salary\n",
              "4000            4000.0\n",
              "8000            8000.0\n",
              "8760            8760.0\n",
              "9272            9272.0\n",
              "10000          10000.0\n",
              "               ...    \n",
              "6000000      6000000.0\n",
              "7000000      7000000.0\n",
              "8500000      8500000.0\n",
              "11000000    11000000.0\n",
              "30400000    30400000.0\n",
              "Name: salary, Length: 272, dtype: float64"
            ]
          },
          "metadata": {},
          "execution_count": 1
        }
      ],
      "source": [
        "#1: Find the average mileage of each salaries?\n",
        "import pandas as pd\n",
        "df=pd.read_csv(\"/content/ds_salaries.csv\")\n",
        "a = df.groupby('salary')\n",
        "b = a['salary'].mean()\n",
        "b"
      ]
    },
    {
      "cell_type": "code",
      "source": [
        "#2: Sort all salaries by location column\n",
        "sort_location = df.sort_values(by=['company_location', 'salary_in_usd'], ascending=False)\n",
        "print(sort_location)"
      ],
      "metadata": {
        "colab": {
          "base_uri": "https://localhost:8080/"
        },
        "id": "K5BrgfbhFcfs",
        "outputId": "39d5fc3e-7591-4f2d-a9fe-ae34c5c0d783"
      },
      "execution_count": 2,
      "outputs": [
        {
          "output_type": "stream",
          "name": "stdout",
          "text": [
            "     Unnamed: 0  work_year experience_level employment_type  \\\n",
            "238         238       2021               EN              FT   \n",
            "252         252       2021               EX              FT   \n",
            "33           33       2020               MI              FT   \n",
            "97           97       2021               MI              FT   \n",
            "157         157       2021               MI              FT   \n",
            "..          ...        ...              ...             ...   \n",
            "200         200       2021               MI              FT   \n",
            "244         244       2021               EN              FT   \n",
            "480         480       2022               SE              FT   \n",
            "24           24       2020               MI              FT   \n",
            "481         481       2022               SE              FT   \n",
            "\n",
            "                              job_title   salary salary_currency  \\\n",
            "238                      Data Scientist     4000             USD   \n",
            "252             Principal Data Engineer   600000             USD   \n",
            "33                   Research Scientist   450000             USD   \n",
            "97               Financial Data Analyst   450000             USD   \n",
            "157  Applied Machine Learning Scientist   423000             USD   \n",
            "..                                  ...      ...             ...   \n",
            "200                      Data Scientist    52000             EUR   \n",
            "244                        AI Scientist  1335000             INR   \n",
            "480           Machine Learning Engineer   120000             USD   \n",
            "24                  Lead Data Scientist   115000             USD   \n",
            "481           Machine Learning Engineer    65000             USD   \n",
            "\n",
            "     salary_in_usd employee_residence  remote_ratio company_location  \\\n",
            "238           4000                 VN             0               VN   \n",
            "252         600000                 US           100               US   \n",
            "33          450000                 US             0               US   \n",
            "97          450000                 US           100               US   \n",
            "157         423000                 US            50               US   \n",
            "..             ...                ...           ...              ...   \n",
            "200          61467                 DE            50               AT   \n",
            "244          18053                 IN           100               AS   \n",
            "480         120000                 AE           100               AE   \n",
            "24          115000                 AE             0               AE   \n",
            "481          65000                 AE           100               AE   \n",
            "\n",
            "    company_size  \n",
            "238            M  \n",
            "252            L  \n",
            "33             M  \n",
            "97             L  \n",
            "157            L  \n",
            "..           ...  \n",
            "200            M  \n",
            "244            S  \n",
            "480            S  \n",
            "24             L  \n",
            "481            S  \n",
            "\n",
            "[607 rows x 12 columns]\n"
          ]
        }
      ]
    },
    {
      "cell_type": "code",
      "source": [
        "#3:Create two data frames using the following two Dicts, Merge two data frames, and append the second data frame as a new column to the first data frame.\n",
        "from pandas.core.reshape.merge import merge\n",
        "data1 = {'Company': ['Ford', 'Mercedes', 'BMV', 'Audi'], 'Price': [23845, 171995, 135925 , 71400]}\n",
        "data2 = {'Company': ['Toyota', 'Honda', 'Nissan', 'Mitsubishi '], 'Price': [29995, 23600, 61500 , 58900]}\n",
        "df1=pd.DataFrame(data1)\n",
        "df2=pd.DataFrame(data2)\n",
        "df3=pd.merge(df1,df2,on='Company')\n",
        "df3"
      ],
      "metadata": {
        "colab": {
          "base_uri": "https://localhost:8080/",
          "height": 49
        },
        "id": "koaeRgYaGwDm",
        "outputId": "c387ae44-19b4-47ba-f727-e98f2d9acc18"
      },
      "execution_count": 5,
      "outputs": [
        {
          "output_type": "execute_result",
          "data": {
            "text/plain": [
              "Empty DataFrame\n",
              "Columns: [Company, Price_x, Price_y]\n",
              "Index: []"
            ],
            "text/html": [
              "\n",
              "  <div id=\"df-c24aa7e4-8910-47e2-aace-ee5e597f01bb\">\n",
              "    <div class=\"colab-df-container\">\n",
              "      <div>\n",
              "<style scoped>\n",
              "    .dataframe tbody tr th:only-of-type {\n",
              "        vertical-align: middle;\n",
              "    }\n",
              "\n",
              "    .dataframe tbody tr th {\n",
              "        vertical-align: top;\n",
              "    }\n",
              "\n",
              "    .dataframe thead th {\n",
              "        text-align: right;\n",
              "    }\n",
              "</style>\n",
              "<table border=\"1\" class=\"dataframe\">\n",
              "  <thead>\n",
              "    <tr style=\"text-align: right;\">\n",
              "      <th></th>\n",
              "      <th>Company</th>\n",
              "      <th>Price_x</th>\n",
              "      <th>Price_y</th>\n",
              "    </tr>\n",
              "  </thead>\n",
              "  <tbody>\n",
              "  </tbody>\n",
              "</table>\n",
              "</div>\n",
              "      <button class=\"colab-df-convert\" onclick=\"convertToInteractive('df-c24aa7e4-8910-47e2-aace-ee5e597f01bb')\"\n",
              "              title=\"Convert this dataframe to an interactive table.\"\n",
              "              style=\"display:none;\">\n",
              "        \n",
              "  <svg xmlns=\"http://www.w3.org/2000/svg\" height=\"24px\"viewBox=\"0 0 24 24\"\n",
              "       width=\"24px\">\n",
              "    <path d=\"M0 0h24v24H0V0z\" fill=\"none\"/>\n",
              "    <path d=\"M18.56 5.44l.94 2.06.94-2.06 2.06-.94-2.06-.94-.94-2.06-.94 2.06-2.06.94zm-11 1L8.5 8.5l.94-2.06 2.06-.94-2.06-.94L8.5 2.5l-.94 2.06-2.06.94zm10 10l.94 2.06.94-2.06 2.06-.94-2.06-.94-.94-2.06-.94 2.06-2.06.94z\"/><path d=\"M17.41 7.96l-1.37-1.37c-.4-.4-.92-.59-1.43-.59-.52 0-1.04.2-1.43.59L10.3 9.45l-7.72 7.72c-.78.78-.78 2.05 0 2.83L4 21.41c.39.39.9.59 1.41.59.51 0 1.02-.2 1.41-.59l7.78-7.78 2.81-2.81c.8-.78.8-2.07 0-2.86zM5.41 20L4 18.59l7.72-7.72 1.47 1.35L5.41 20z\"/>\n",
              "  </svg>\n",
              "      </button>\n",
              "      \n",
              "  <style>\n",
              "    .colab-df-container {\n",
              "      display:flex;\n",
              "      flex-wrap:wrap;\n",
              "      gap: 12px;\n",
              "    }\n",
              "\n",
              "    .colab-df-convert {\n",
              "      background-color: #E8F0FE;\n",
              "      border: none;\n",
              "      border-radius: 50%;\n",
              "      cursor: pointer;\n",
              "      display: none;\n",
              "      fill: #1967D2;\n",
              "      height: 32px;\n",
              "      padding: 0 0 0 0;\n",
              "      width: 32px;\n",
              "    }\n",
              "\n",
              "    .colab-df-convert:hover {\n",
              "      background-color: #E2EBFA;\n",
              "      box-shadow: 0px 1px 2px rgba(60, 64, 67, 0.3), 0px 1px 3px 1px rgba(60, 64, 67, 0.15);\n",
              "      fill: #174EA6;\n",
              "    }\n",
              "\n",
              "    [theme=dark] .colab-df-convert {\n",
              "      background-color: #3B4455;\n",
              "      fill: #D2E3FC;\n",
              "    }\n",
              "\n",
              "    [theme=dark] .colab-df-convert:hover {\n",
              "      background-color: #434B5C;\n",
              "      box-shadow: 0px 1px 3px 1px rgba(0, 0, 0, 0.15);\n",
              "      filter: drop-shadow(0px 1px 2px rgba(0, 0, 0, 0.3));\n",
              "      fill: #FFFFFF;\n",
              "    }\n",
              "  </style>\n",
              "\n",
              "      <script>\n",
              "        const buttonEl =\n",
              "          document.querySelector('#df-c24aa7e4-8910-47e2-aace-ee5e597f01bb button.colab-df-convert');\n",
              "        buttonEl.style.display =\n",
              "          google.colab.kernel.accessAllowed ? 'block' : 'none';\n",
              "\n",
              "        async function convertToInteractive(key) {\n",
              "          const element = document.querySelector('#df-c24aa7e4-8910-47e2-aace-ee5e597f01bb');\n",
              "          const dataTable =\n",
              "            await google.colab.kernel.invokeFunction('convertToInteractive',\n",
              "                                                     [key], {});\n",
              "          if (!dataTable) return;\n",
              "\n",
              "          const docLinkHtml = 'Like what you see? Visit the ' +\n",
              "            '<a target=\"_blank\" href=https://colab.research.google.com/notebooks/data_table.ipynb>data table notebook</a>'\n",
              "            + ' to learn more about interactive tables.';\n",
              "          element.innerHTML = '';\n",
              "          dataTable['output_type'] = 'display_data';\n",
              "          await google.colab.output.renderOutput(dataTable, element);\n",
              "          const docLink = document.createElement('div');\n",
              "          docLink.innerHTML = docLinkHtml;\n",
              "          element.appendChild(docLink);\n",
              "        }\n",
              "      </script>\n",
              "    </div>\n",
              "  </div>\n",
              "  "
            ]
          },
          "metadata": {},
          "execution_count": 5
        }
      ]
    },
    {
      "cell_type": "code",
      "source": [],
      "metadata": {
        "id": "LeGdTG2UH0Ty"
      },
      "execution_count": null,
      "outputs": []
    }
  ]
}