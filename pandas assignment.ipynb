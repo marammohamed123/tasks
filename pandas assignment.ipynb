{
  "nbformat": 4,
  "nbformat_minor": 0,
  "metadata": {
    "colab": {
      "provenance": [],
      "authorship_tag": "ABX9TyMf6TlqLats4pspJGmoYOGM",
      "include_colab_link": true
    },
    "kernelspec": {
      "name": "python3",
      "display_name": "Python 3"
    },
    "language_info": {
      "name": "python"
    }
  },
  "cells": [
    {
      "cell_type": "markdown",
      "metadata": {
        "id": "view-in-github",
        "colab_type": "text"
      },
      "source": [
        "<a href=\"https://colab.research.google.com/github/marammohamed123/tasks/blob/main/pandas%20assignment.ipynb\" target=\"_parent\"><img src=\"https://colab.research.google.com/assets/colab-badge.svg\" alt=\"Open In Colab\"/></a>"
      ]
    },
    {
      "cell_type": "code",
      "execution_count": 1,
      "metadata": {
        "colab": {
          "base_uri": "https://localhost:8080/"
        },
        "id": "ybxYoPX5_rvg",
        "outputId": "ac3f5ce8-fdaf-4595-cb0c-21ec88553b32"
      },
      "outputs": [
        {
          "output_type": "stream",
          "name": "stdout",
          "text": [
            "     car_ID  symboling                   CarName fueltype aspiration  \\\n",
            "0         1          3        alfa-romero giulia      gas        std   \n",
            "1         2          3       alfa-romero stelvio      gas        std   \n",
            "2         3          1  alfa-romero Quadrifoglio      gas        std   \n",
            "3         4          2               audi 100 ls      gas        std   \n",
            "4         5          2                audi 100ls      gas        std   \n",
            "..      ...        ...                       ...      ...        ...   \n",
            "200     201         -1           volvo 145e (sw)      gas        std   \n",
            "201     202         -1               volvo 144ea      gas      turbo   \n",
            "202     203         -1               volvo 244dl      gas        std   \n",
            "203     204         -1                 volvo 246   diesel      turbo   \n",
            "204     205         -1               volvo 264gl      gas      turbo   \n",
            "\n",
            "    doornumber      carbody drivewheel enginelocation  wheelbase  ...  \\\n",
            "0          two  convertible        rwd          front       88.6  ...   \n",
            "1          two  convertible        rwd          front       88.6  ...   \n",
            "2          two    hatchback        rwd          front       94.5  ...   \n",
            "3         four        sedan        fwd          front       99.8  ...   \n",
            "4         four        sedan        4wd          front       99.4  ...   \n",
            "..         ...          ...        ...            ...        ...  ...   \n",
            "200       four        sedan        rwd          front      109.1  ...   \n",
            "201       four        sedan        rwd          front      109.1  ...   \n",
            "202       four        sedan        rwd          front      109.1  ...   \n",
            "203       four        sedan        rwd          front      109.1  ...   \n",
            "204       four        sedan        rwd          front      109.1  ...   \n",
            "\n",
            "     enginesize  fuelsystem  boreratio  stroke compressionratio horsepower  \\\n",
            "0           130        mpfi       3.47    2.68              9.0        111   \n",
            "1           130        mpfi       3.47    2.68              9.0        111   \n",
            "2           152        mpfi       2.68    3.47              9.0        154   \n",
            "3           109        mpfi       3.19    3.40             10.0        102   \n",
            "4           136        mpfi       3.19    3.40              8.0        115   \n",
            "..          ...         ...        ...     ...              ...        ...   \n",
            "200         141        mpfi       3.78    3.15              9.5        114   \n",
            "201         141        mpfi       3.78    3.15              8.7        160   \n",
            "202         173        mpfi       3.58    2.87              8.8        134   \n",
            "203         145         idi       3.01    3.40             23.0        106   \n",
            "204         141        mpfi       3.78    3.15              9.5        114   \n",
            "\n",
            "     peakrpm citympg  highwaympg    price  \n",
            "0       5000      21          27  13495.0  \n",
            "1       5000      21          27  16500.0  \n",
            "2       5000      19          26  16500.0  \n",
            "3       5500      24          30  13950.0  \n",
            "4       5500      18          22  17450.0  \n",
            "..       ...     ...         ...      ...  \n",
            "200     5400      23          28  16845.0  \n",
            "201     5300      19          25  19045.0  \n",
            "202     5500      18          23  21485.0  \n",
            "203     4800      26          27  22470.0  \n",
            "204     5400      19          25  22625.0  \n",
            "\n",
            "[205 rows x 26 columns]\n"
          ]
        }
      ],
      "source": [
        "#Clean the dataset and update the CSV file?Replace all column values which contain ?, n.a, or NaN\n",
        "import pandas as pd\n",
        "data=pd.read_csv(\"CarPrice_Assignment.csv\")\n",
        "new_data=data.dropna()\n",
        "print(new_data)\n",
        "data.fillna(0,inplace=True)"
      ]
    },
    {
      "cell_type": "code",
      "source": [
        "#Exercise 2: Find the most expensive car company name?\n",
        "import pandas as pd\n",
        "data=pd.read_csv(\"CarPrice_Assignment.csv\")\n",
        "max_car=data[['CarName','price']][data.price==data['price'].max()]\n",
        "print(max_car)\n"
      ],
      "metadata": {
        "colab": {
          "base_uri": "https://localhost:8080/"
        },
        "id": "uUqatWI9_3AW",
        "outputId": "3b96cb49-cc37-4052-e402-9f79e25fde51"
      },
      "execution_count": 2,
      "outputs": [
        {
          "output_type": "stream",
          "name": "stdout",
          "text": [
            "                            CarName    price\n",
            "74  buick regal sport coupe (turbo)  45400.0\n"
          ]
        }
      ]
    },
    {
      "cell_type": "code",
      "source": [
        "import pandas as pd\n",
        "df=pd.read_csv(\"CarPrice_Assignment.csv\")\n",
        "car_Manufacturers = df.groupby('CarName')\n",
        "audiDf = car_Manufacturers.get_group('audi 100 ls')\n",
        "print(audiDf)"
      ],
      "metadata": {
        "colab": {
          "base_uri": "https://localhost:8080/"
        },
        "id": "OS3bkI_HACMe",
        "outputId": "16be2a83-f190-4fd6-ecd0-64e34f197935"
      },
      "execution_count": 3,
      "outputs": [
        {
          "output_type": "stream",
          "name": "stdout",
          "text": [
            "   car_ID  symboling      CarName fueltype aspiration doornumber carbody  \\\n",
            "3       4          2  audi 100 ls      gas        std       four   sedan   \n",
            "\n",
            "  drivewheel enginelocation  wheelbase  ...  enginesize  fuelsystem  \\\n",
            "3        fwd          front       99.8  ...         109        mpfi   \n",
            "\n",
            "   boreratio  stroke compressionratio horsepower  peakrpm citympg  highwaympg  \\\n",
            "3       3.19     3.4             10.0        102     5500      24          30   \n",
            "\n",
            "     price  \n",
            "3  13950.0  \n",
            "\n",
            "[1 rows x 26 columns]\n"
          ]
        }
      ]
    },
    {
      "cell_type": "code",
      "source": [
        "#Exercise 4: Count total cars per company?\n",
        "import pandas as pd\n",
        "df=pd.read_csv(\"CarPrice_Assignment.csv\")\n",
        "df['CarName'].value_counts()"
      ],
      "metadata": {
        "colab": {
          "base_uri": "https://localhost:8080/"
        },
        "id": "yI6BGdnYAGes",
        "outputId": "8d64c2ea-75f6-4b13-a34c-9f7c9a5fe76e"
      },
      "execution_count": 4,
      "outputs": [
        {
          "output_type": "execute_result",
          "data": {
            "text/plain": [
              "toyota corona           6\n",
              "toyota corolla          6\n",
              "peugeot 504             6\n",
              "subaru dl               4\n",
              "mitsubishi mirage g4    3\n",
              "                       ..\n",
              "mazda glc 4             1\n",
              "mazda rx2 coupe         1\n",
              "maxda glc deluxe        1\n",
              "maxda rx3               1\n",
              "volvo 246               1\n",
              "Name: CarName, Length: 147, dtype: int64"
            ]
          },
          "metadata": {},
          "execution_count": 4
        }
      ]
    },
    {
      "cell_type": "code",
      "source": [
        "# Find each company’s Higesht price car\n",
        "import pandas as pd\n",
        "df=pd.read_csv(\"CarPrice_Assignment.csv\")\n",
        "car_Manufacturers = df.groupby('CarName')\n",
        "priceDf = car_Manufacturers['CarName','price'].max()\n",
        "print(priceDf)"
      ],
      "metadata": {
        "colab": {
          "base_uri": "https://localhost:8080/"
        },
        "id": "lZe-m_COAK0m",
        "outputId": "b7d3bad9-165b-49ed-bcb7-fbfd73e3d3aa"
      },
      "execution_count": 5,
      "outputs": [
        {
          "output_type": "stream",
          "name": "stdout",
          "text": [
            "                                           CarName    price\n",
            "CarName                                                    \n",
            "Nissan versa                          Nissan versa   5499.0\n",
            "alfa-romero Quadrifoglio  alfa-romero Quadrifoglio  16500.0\n",
            "alfa-romero giulia              alfa-romero giulia  13495.0\n",
            "alfa-romero stelvio            alfa-romero stelvio  16500.0\n",
            "audi 100 ls                            audi 100 ls  13950.0\n",
            "...                                            ...      ...\n",
            "volvo 246                                volvo 246  22470.0\n",
            "volvo 264gl                            volvo 264gl  22625.0\n",
            "volvo diesel                          volvo diesel  18950.0\n",
            "vw dasher                                vw dasher  11595.0\n",
            "vw rabbit                                vw rabbit   9980.0\n",
            "\n",
            "[147 rows x 2 columns]\n"
          ]
        },
        {
          "output_type": "stream",
          "name": "stderr",
          "text": [
            "/usr/local/lib/python3.7/dist-packages/ipykernel_launcher.py:5: FutureWarning: Indexing with multiple keys (implicitly converted to a tuple of keys) will be deprecated, use a list instead.\n",
            "  \"\"\"\n"
          ]
        }
      ]
    },
    {
      "cell_type": "code",
      "source": [],
      "metadata": {
        "id": "-cuPrAlpAP0Y"
      },
      "execution_count": null,
      "outputs": []
    }
  ]
}